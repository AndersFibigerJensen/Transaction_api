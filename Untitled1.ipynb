{
 "cells": [
  {
   "cell_type": "code",
   "execution_count": 58,
   "id": "d748dd19",
   "metadata": {},
   "outputs": [],
   "source": [
    "import pyodbc\n",
    "\n",
    "cnxn = pyodbc.connect(\"DRIVER={SQL Server};SERVER=MSI;DATABASE=CustomerProductOrderDB;'UID=UserReader;PWD=%1205ROS; TrustServerCertificate=yes;\")\n",
    "\n",
    "cursor = cnxn.cursor()"
   ]
  },
  {
   "cell_type": "code",
   "execution_count": 59,
   "id": "f954ed9f",
   "metadata": {},
   "outputs": [],
   "source": [
    "import numpy as np\n",
    "import pandas as pd"
   ]
  },
  {
   "cell_type": "code",
   "execution_count": 60,
   "id": "a83020dd",
   "metadata": {},
   "outputs": [
    {
     "name": "stderr",
     "output_type": "stream",
     "text": [
      "C:\\Users\\ander\\AppData\\Local\\Temp\\ipykernel_16348\\1477455881.py:1: UserWarning: pandas only supports SQLAlchemy connectable (engine/connection) or database string URI or sqlite3 DBAPI2 connection. Other DBAPI2 objects are not tested. Please consider using SQLAlchemy.\n",
      "  dataset=pd.read_sql_query(\"\"\"select * from StoreCluster\"\"\",cnxn)\n"
     ]
    },
    {
     "data": {
      "text/html": [
       "<div>\n",
       "<style scoped>\n",
       "    .dataframe tbody tr th:only-of-type {\n",
       "        vertical-align: middle;\n",
       "    }\n",
       "\n",
       "    .dataframe tbody tr th {\n",
       "        vertical-align: top;\n",
       "    }\n",
       "\n",
       "    .dataframe thead th {\n",
       "        text-align: right;\n",
       "    }\n",
       "</style>\n",
       "<table border=\"1\" class=\"dataframe\">\n",
       "  <thead>\n",
       "    <tr style=\"text-align: right;\">\n",
       "      <th></th>\n",
       "      <th>transaction_id</th>\n",
       "      <th>store_id</th>\n",
       "      <th>product_category</th>\n",
       "      <th>cluster_id</th>\n",
       "    </tr>\n",
       "  </thead>\n",
       "  <tbody>\n",
       "    <tr>\n",
       "      <th>0</th>\n",
       "      <td>1</td>\n",
       "      <td>5</td>\n",
       "      <td>2</td>\n",
       "      <td>None</td>\n",
       "    </tr>\n",
       "    <tr>\n",
       "      <th>1</th>\n",
       "      <td>2</td>\n",
       "      <td>5</td>\n",
       "      <td>3</td>\n",
       "      <td>None</td>\n",
       "    </tr>\n",
       "    <tr>\n",
       "      <th>2</th>\n",
       "      <td>3</td>\n",
       "      <td>5</td>\n",
       "      <td>8</td>\n",
       "      <td>None</td>\n",
       "    </tr>\n",
       "    <tr>\n",
       "      <th>3</th>\n",
       "      <td>4</td>\n",
       "      <td>5</td>\n",
       "      <td>2</td>\n",
       "      <td>None</td>\n",
       "    </tr>\n",
       "    <tr>\n",
       "      <th>4</th>\n",
       "      <td>5</td>\n",
       "      <td>5</td>\n",
       "      <td>3</td>\n",
       "      <td>None</td>\n",
       "    </tr>\n",
       "    <tr>\n",
       "      <th>...</th>\n",
       "      <td>...</td>\n",
       "      <td>...</td>\n",
       "      <td>...</td>\n",
       "      <td>...</td>\n",
       "    </tr>\n",
       "    <tr>\n",
       "      <th>149111</th>\n",
       "      <td>149452</td>\n",
       "      <td>8</td>\n",
       "      <td>3</td>\n",
       "      <td>None</td>\n",
       "    </tr>\n",
       "    <tr>\n",
       "      <th>149112</th>\n",
       "      <td>149453</td>\n",
       "      <td>8</td>\n",
       "      <td>3</td>\n",
       "      <td>None</td>\n",
       "    </tr>\n",
       "    <tr>\n",
       "      <th>149113</th>\n",
       "      <td>149454</td>\n",
       "      <td>8</td>\n",
       "      <td>3</td>\n",
       "      <td>None</td>\n",
       "    </tr>\n",
       "    <tr>\n",
       "      <th>149114</th>\n",
       "      <td>149455</td>\n",
       "      <td>8</td>\n",
       "      <td>2</td>\n",
       "      <td>None</td>\n",
       "    </tr>\n",
       "    <tr>\n",
       "      <th>149115</th>\n",
       "      <td>149456</td>\n",
       "      <td>8</td>\n",
       "      <td>1</td>\n",
       "      <td>None</td>\n",
       "    </tr>\n",
       "  </tbody>\n",
       "</table>\n",
       "<p>149116 rows × 4 columns</p>\n",
       "</div>"
      ],
      "text/plain": [
       "        transaction_id  store_id  product_category cluster_id\n",
       "0                    1         5                 2       None\n",
       "1                    2         5                 3       None\n",
       "2                    3         5                 8       None\n",
       "3                    4         5                 2       None\n",
       "4                    5         5                 3       None\n",
       "...                ...       ...               ...        ...\n",
       "149111          149452         8                 3       None\n",
       "149112          149453         8                 3       None\n",
       "149113          149454         8                 3       None\n",
       "149114          149455         8                 2       None\n",
       "149115          149456         8                 1       None\n",
       "\n",
       "[149116 rows x 4 columns]"
      ]
     },
     "execution_count": 60,
     "metadata": {},
     "output_type": "execute_result"
    }
   ],
   "source": [
    "dataset=pd.read_sql_query(\"\"\"select * from StoreCluster\"\"\",cnxn)\n",
    "dataset"
   ]
  },
  {
   "cell_type": "code",
   "execution_count": 61,
   "id": "f6b46042",
   "metadata": {},
   "outputs": [
    {
     "name": "stdout",
     "output_type": "stream",
     "text": [
      "<class 'pandas.core.frame.DataFrame'>\n",
      "RangeIndex: 149116 entries, 0 to 149115\n",
      "Data columns (total 4 columns):\n",
      " #   Column            Non-Null Count   Dtype \n",
      "---  ------            --------------   ----- \n",
      " 0   transaction_id    149116 non-null  int64 \n",
      " 1   store_id          149116 non-null  int64 \n",
      " 2   product_category  149116 non-null  int64 \n",
      " 3   cluster_id        0 non-null       object\n",
      "dtypes: int64(3), object(1)\n",
      "memory usage: 4.6+ MB\n"
     ]
    }
   ],
   "source": [
    "\n",
    "df_original=dataset\n",
    "dataset.info()"
   ]
  },
  {
   "cell_type": "code",
   "execution_count": 63,
   "id": "a1ab6b31",
   "metadata": {},
   "outputs": [],
   "source": [
    "\n",
    "from sklearn.cluster import KMeans\n",
    "from sklearn.datasets import make_blobs\n",
    "from sklearn.tree import DecisionTreeClassifier,plot_tree\n",
    "from sklearn.model_selection import train_test_split"
   ]
  },
  {
   "cell_type": "code",
   "execution_count": 79,
   "id": "d153654c",
   "metadata": {},
   "outputs": [
    {
     "name": "stdout",
     "output_type": "stream",
     "text": [
      "[1 1 1 ... 3 3 3]\n"
     ]
    }
   ],
   "source": []
  },
  {
   "cell_type": "code",
   "execution_count": 77,
   "id": "f983bdc1",
   "metadata": {},
   "outputs": [
    {
     "name": "stderr",
     "output_type": "stream",
     "text": [
      "C:\\Users\\ander\\AppData\\Local\\Temp\\ipykernel_16348\\3049694661.py:1: UserWarning: pandas only supports SQLAlchemy connectable (engine/connection) or database string URI or sqlite3 DBAPI2 connection. Other DBAPI2 objects are not tested. Please consider using SQLAlchemy.\n",
      "  number=pd.read_sql_query('''Select count(cluster_id) from StoreCluster''',cnxn)\n",
      "C:\\Users\\ander\\AppData\\Local\\Temp\\ipykernel_16348\\3049694661.py:2: UserWarning: pandas only supports SQLAlchemy connectable (engine/connection) or database string URI or sqlite3 DBAPI2 connection. Other DBAPI2 objects are not tested. Please consider using SQLAlchemy.\n",
      "  transactions=pd.read_sql_query('''Select count(*) from Transactions''',cnxn)\n",
      "C:\\Users\\ander\\AppData\\Local\\Temp\\ipykernel_16348\\3049694661.py:3: FutureWarning: Calling int on a single element Series is deprecated and will raise a TypeError in the future. Use int(ser.iloc[0]) instead\n",
      "  if int(number.iloc[0])!=0:\n"
     ]
    },
    {
     "name": "stdout",
     "output_type": "stream",
     "text": [
      "ok\n"
     ]
    },
    {
     "ename": "TypeError",
     "evalue": "read_sql_query() missing 1 required positional argument: 'con'",
     "output_type": "error",
     "traceback": [
      "\u001b[1;31m---------------------------------------------------------------------------\u001b[0m",
      "\u001b[1;31mTypeError\u001b[0m                                 Traceback (most recent call last)",
      "Cell \u001b[1;32mIn[77], line 27\u001b[0m\n\u001b[0;32m     25\u001b[0m tree_clf\u001b[38;5;241m=\u001b[39mDecisionTreeClassifier(max_depth\u001b[38;5;241m=\u001b[39m\u001b[38;5;241m2\u001b[39m,random_state\u001b[38;5;241m=\u001b[39m\u001b[38;5;241m42\u001b[39m)\n\u001b[0;32m     26\u001b[0m clf\u001b[38;5;241m=\u001b[39mtree_clf\u001b[38;5;241m.\u001b[39mfit(X_train,Y_train)\n\u001b[1;32m---> 27\u001b[0m pd\u001b[38;5;241m.\u001b[39mread_sql_query(\u001b[38;5;124m'''\u001b[39m\u001b[38;5;124mInsert into StoreCluster values(a)\u001b[39m\u001b[38;5;124m'''\u001b[39m)\n\u001b[0;32m     28\u001b[0m a\u001b[38;5;241m=\u001b[39mclf\u001b[38;5;241m.\u001b[39mpredict(X)\n",
      "\u001b[1;31mTypeError\u001b[0m: read_sql_query() missing 1 required positional argument: 'con'"
     ]
    }
   ],
   "source": [
    "number=pd.read_sql_query('''Select count(cluster_id) from StoreCluster''',cnxn)\n",
    "transactions=pd.read_sql_query('''Select count(*) from Transactions''',cnxn)\n",
    "if int(number.iloc[0])!=0:\n",
    "        print('ok')\n",
    "    train_set,test_set=train_test_split(dataset,test_size=0.1,random_state=42)\n",
    "    X_train=train_set[['store_id','product_category']]\n",
    "    Y_train=train_set['cluster_id']\n",
    "    X_test=test_set[['store_id','product_category']]\n",
    "    Y_test=test_set['cluster_id']\n",
    "    tree_clf=DecisionTreeClassifier(max_depth=2,random_state=42)\n",
    "    clf=tree_clf.fit(X_train,Y_train)\n",
    "    for i in range(number,transactions+1):\n",
    "        pd.read_sql_query('''Insert into StoreCluster(transaction_id,store_id,product_category)\n",
    "        select transaction_id,store_id,product_category from Transactions where transaction_id={i}''',cnxn)\n",
    "    for i in range(number,transactions):\n",
    "        pd.read_sql_query('''Insert into StoreCluster(cluster_id) values(clf.predict(X)) where transaction_id={i}''',cnxn)       \n",
    "else:\n",
    "    X=dataset[['store_id','product_category']]\n",
    "    Y=dataset['cluster_id']\n",
    "    kmeans=KMeans(n_clusters=6,init=\"k-means++\",random_state=42)\n",
    "    kmeans.fit(X)\n",
    "    dataset['cluster_id']=kmeans.labels_\n",
    "    for i in range(number,transactions+1):\n",
    "        quary= 'Exec treeretraining'\n",
    "        cursor.execute(quary)\n",
    "        cursor.commit()\n",
    "        store_id=dataset.iloc(0,0)\n",
    "        category=dataset.iloc(1,0)\n",
    "        cluster=dataset.lloc(2,0)\n",
    "        pd.read_sql_query('''Insert into StoreCluster values({store_id},{category},{cluster}) ''',cnxn)\n",
    "    print('no')"
   ]
  },
  {
   "cell_type": "code",
   "execution_count": null,
   "id": "4dbde136",
   "metadata": {},
   "outputs": [],
   "source": []
  }
 ],
 "metadata": {
  "kernelspec": {
   "display_name": "Python 3 (ipykernel)",
   "language": "python",
   "name": "python3"
  },
  "language_info": {
   "codemirror_mode": {
    "name": "ipython",
    "version": 3
   },
   "file_extension": ".py",
   "mimetype": "text/x-python",
   "name": "python",
   "nbconvert_exporter": "python",
   "pygments_lexer": "ipython3",
   "version": "3.11.5"
  }
 },
 "nbformat": 4,
 "nbformat_minor": 5
}
