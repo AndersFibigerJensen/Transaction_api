{
 "cells": [
  {
   "cell_type": "code",
   "execution_count": 3,
   "id": "4740ef63",
   "metadata": {},
   "outputs": [],
   "source": [
    "import pyodbc\n",
    "\n",
    "cnxn = pyodbc.connect(\"DRIVER={SQL Server};SERVER=MSI;DATABASE=CustomerProductOrderDB;'UID=UserReader;PWD=%1205ROS; TrustServerCertificate=yes;\")\n",
    "\n",
    "cursor = cnxn.cursor()"
   ]
  },
  {
   "cell_type": "code",
   "execution_count": 4,
   "id": "207d5849",
   "metadata": {},
   "outputs": [],
   "source": [
    "import numpy as np\n",
    "import pandas as pd"
   ]
  },
  {
   "cell_type": "code",
   "execution_count": 5,
   "id": "70fe8d05",
   "metadata": {},
   "outputs": [
    {
     "name": "stderr",
     "output_type": "stream",
     "text": [
      "C:\\Users\\ander\\AppData\\Local\\Temp\\ipykernel_3832\\1012235140.py:1: UserWarning: pandas only supports SQLAlchemy connectable (engine/connection) or database string URI or sqlite3 DBAPI2 connection. Other DBAPI2 objects are not tested. Please consider using SQLAlchemy.\n",
      "  dataset= pd.read_sql_query('''SELECT TOP (8000) [transaction_id]\n"
     ]
    }
   ],
   "source": [
    "dataset= pd.read_sql_query('''SELECT TOP (8000) [transaction_id]\n",
    "      ,[hour]\n",
    "      ,[month]\n",
    "      ,[store_id]\n",
    "      ,[product_id]\n",
    "      ,[product_category]\n",
    "      ,[transaction_qty]\n",
    "  FROM [CustomerProductOrderDB].[dbo].[Transactions]''',cnxn)"
   ]
  },
  {
   "cell_type": "code",
   "execution_count": 6,
   "id": "4e3dcb6d",
   "metadata": {},
   "outputs": [
    {
     "ename": "NameError",
     "evalue": "name 'X' is not defined",
     "output_type": "error",
     "traceback": [
      "\u001b[1;31m---------------------------------------------------------------------------\u001b[0m",
      "\u001b[1;31mNameError\u001b[0m                                 Traceback (most recent call last)",
      "Cell \u001b[1;32mIn[6], line 2\u001b[0m\n\u001b[0;32m      1\u001b[0m \u001b[38;5;28;01mfrom\u001b[39;00m \u001b[38;5;21;01msklearn\u001b[39;00m\u001b[38;5;21;01m.\u001b[39;00m\u001b[38;5;21;01mmodel_selection\u001b[39;00m \u001b[38;5;28;01mimport\u001b[39;00m train_test_split\n\u001b[1;32m----> 2\u001b[0m X_train, X_test, y_train, y_test \u001b[38;5;241m=\u001b[39m train_test_split(X, y, random_state\u001b[38;5;241m=\u001b[39m\u001b[38;5;241m42\u001b[39m)\n",
      "\u001b[1;31mNameError\u001b[0m: name 'X' is not defined"
     ]
    }
   ],
   "source": [
    "from sklearn.model_selection import train_test_split\n",
    "X_train, X_test, y_train, y_test = train_test_split(X, y, random_state=42)"
   ]
  },
  {
   "cell_type": "code",
   "execution_count": null,
   "id": "21c6048b",
   "metadata": {},
   "outputs": [],
   "source": [
    "from datetime import datetime\n",
    "quary= 'Exec treeretraining'\n",
    "cursor.execute(quary)\n",
    "cursor.commit()\n",
    "data= pd.read_sql_query(f'''SELECT * from Decision_Tree_Classifier''',cnxn)\n",
    "if datavalues['Train_score'].empty==False & datavalues['Test_score'].empty==False:\n",
    "    print(datavalues.head())\n",
    "else:\n",
    "    for row in data.values:\n",
    "        #inserting values into sql table\n",
    "        quary=f'''Exec updatingscores @training={trainingscore},@test={testscore},@id={ID}'''\n",
    "        cursor.execute(quary)\n",
    "        cursor.commit()\n",
    "        print('commited')"
   ]
  },
  {
   "cell_type": "code",
   "execution_count": null,
   "id": "c8477857",
   "metadata": {},
   "outputs": [],
   "source": []
  }
 ],
 "metadata": {
  "kernelspec": {
   "display_name": "Python 3 (ipykernel)",
   "language": "python",
   "name": "python3"
  },
  "language_info": {
   "codemirror_mode": {
    "name": "ipython",
    "version": 3
   },
   "file_extension": ".py",
   "mimetype": "text/x-python",
   "name": "python",
   "nbconvert_exporter": "python",
   "pygments_lexer": "ipython3",
   "version": "3.11.5"
  }
 },
 "nbformat": 4,
 "nbformat_minor": 5
}
